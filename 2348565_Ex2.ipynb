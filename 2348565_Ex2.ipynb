{
  "nbformat": 4,
  "nbformat_minor": 0,
  "metadata": {
    "colab": {
      "provenance": [],
      "authorship_tag": "ABX9TyN/92q0FiDF+53Hv7/beNnr",
      "include_colab_link": true
    },
    "kernelspec": {
      "name": "python3",
      "display_name": "Python 3"
    },
    "language_info": {
      "name": "python"
    }
  },
  "cells": [
    {
      "cell_type": "markdown",
      "metadata": {
        "id": "view-in-github",
        "colab_type": "text"
      },
      "source": [
        "<a href=\"https://colab.research.google.com/github/swapnalisingh13/Advance-ML/blob/main/2348565_Ex2.ipynb\" target=\"_parent\"><img src=\"https://colab.research.google.com/assets/colab-badge.svg\" alt=\"Open In Colab\"/></a>"
      ]
    },
    {
      "cell_type": "code",
      "execution_count": 74,
      "metadata": {
        "id": "NKutwpbvKZSD"
      },
      "outputs": [],
      "source": [
        "import pandas as pd\n",
        "import numpy as np\n",
        "import matplotlib.pyplot as plt\n",
        "import seaborn as sns\n",
        "from sklearn.ensemble import RandomForestRegressor\n",
        "from sklearn.feature_selection import SelectKBest\n",
        "from sklearn.feature_selection import mutual_info_regression\n",
        "from sklearn.preprocessing import MinMaxScaler\n",
        "from sklearn.preprocessing import StandardScaler\n",
        "from sklearn.model_selection import train_test_split\n",
        "from sklearn.neighbors import KNeighborsRegressor\n",
        "from sklearn.metrics import mean_squared_error"
      ]
    },
    {
      "cell_type": "code",
      "source": [
        "df=pd.read_csv('/content/data.csv')\n",
        "df"
      ],
      "metadata": {
        "colab": {
          "base_uri": "https://localhost:8080/",
          "height": 652
        },
        "id": "9mZB9ADzL4Ea",
        "outputId": "d8ecde7d-7379-4a43-d2e3-73ae558ddb6f"
      },
      "execution_count": 75,
      "outputs": [
        {
          "output_type": "execute_result",
          "data": {
            "text/plain": [
              "                 date         price  bedrooms  bathrooms  sqft_living  \\\n",
              "0     02-05-2014 0:00  3.130000e+05         3       1.50         1340   \n",
              "1     02-05-2014 0:00  2.384000e+06         5       2.50         3650   \n",
              "2     02-05-2014 0:00  3.420000e+05         3       2.00         1930   \n",
              "3     02-05-2014 0:00  4.200000e+05         3       2.25         2000   \n",
              "4     02-05-2014 0:00  5.500000e+05         4       2.50         1940   \n",
              "...               ...           ...       ...        ...          ...   \n",
              "4595  09-07-2014 0:00  3.081667e+05         3       1.75         1510   \n",
              "4596  09-07-2014 0:00  5.343333e+05         3       2.50         1460   \n",
              "4597  09-07-2014 0:00  4.169042e+05         3       2.50         3010   \n",
              "4598  10-07-2014 0:00  2.034000e+05         4       2.00         2090   \n",
              "4599  10-07-2014 0:00  2.206000e+05         3       2.50         1490   \n",
              "\n",
              "      sqft_lot  floors  waterfront  view  condition  sqft_above  \\\n",
              "0         7912     1.5           0     0          3        1340   \n",
              "1         9050     2.0           0     4          5        3370   \n",
              "2        11947     1.0           0     0          4        1930   \n",
              "3         8030     1.0           0     0          4        1000   \n",
              "4        10500     1.0           0     0          4        1140   \n",
              "...        ...     ...         ...   ...        ...         ...   \n",
              "4595      6360     1.0           0     0          4        1510   \n",
              "4596      7573     2.0           0     0          3        1460   \n",
              "4597      7014     2.0           0     0          3        3010   \n",
              "4598      6630     1.0           0     0          3        1070   \n",
              "4599      8102     2.0           0     0          4        1490   \n",
              "\n",
              "      sqft_basement  yr_built  yr_renovated                    street  \\\n",
              "0                 0      1955          2005      18810 Densmore Ave N   \n",
              "1               280      1921             0           709 W Blaine St   \n",
              "2                 0      1966             0  26206-26214 143rd Ave SE   \n",
              "3              1000      1963             0           857 170th Pl NE   \n",
              "4               800      1976          1992         9105 170th Ave NE   \n",
              "...             ...       ...           ...                       ...   \n",
              "4595              0      1954          1979            501 N 143rd St   \n",
              "4596              0      1983          2009          14855 SE 10th Pl   \n",
              "4597              0      2009             0          759 Ilwaco Pl NE   \n",
              "4598           1020      1974             0         5148 S Creston St   \n",
              "4599              0      1990             0         18717 SE 258th St   \n",
              "\n",
              "           city  statezip country  \n",
              "0     Shoreline  WA 98133     USA  \n",
              "1       Seattle  WA 98119     USA  \n",
              "2          Kent  WA 98042     USA  \n",
              "3      Bellevue  WA 98008     USA  \n",
              "4       Redmond  WA 98052     USA  \n",
              "...         ...       ...     ...  \n",
              "4595    Seattle  WA 98133     USA  \n",
              "4596   Bellevue  WA 98007     USA  \n",
              "4597     Renton  WA 98059     USA  \n",
              "4598    Seattle  WA 98178     USA  \n",
              "4599  Covington  WA 98042     USA  \n",
              "\n",
              "[4600 rows x 18 columns]"
            ],
            "text/html": [
              "\n",
              "  <div id=\"df-d08d77e0-00b2-478d-8e60-c10089e38a77\" class=\"colab-df-container\">\n",
              "    <div>\n",
              "<style scoped>\n",
              "    .dataframe tbody tr th:only-of-type {\n",
              "        vertical-align: middle;\n",
              "    }\n",
              "\n",
              "    .dataframe tbody tr th {\n",
              "        vertical-align: top;\n",
              "    }\n",
              "\n",
              "    .dataframe thead th {\n",
              "        text-align: right;\n",
              "    }\n",
              "</style>\n",
              "<table border=\"1\" class=\"dataframe\">\n",
              "  <thead>\n",
              "    <tr style=\"text-align: right;\">\n",
              "      <th></th>\n",
              "      <th>date</th>\n",
              "      <th>price</th>\n",
              "      <th>bedrooms</th>\n",
              "      <th>bathrooms</th>\n",
              "      <th>sqft_living</th>\n",
              "      <th>sqft_lot</th>\n",
              "      <th>floors</th>\n",
              "      <th>waterfront</th>\n",
              "      <th>view</th>\n",
              "      <th>condition</th>\n",
              "      <th>sqft_above</th>\n",
              "      <th>sqft_basement</th>\n",
              "      <th>yr_built</th>\n",
              "      <th>yr_renovated</th>\n",
              "      <th>street</th>\n",
              "      <th>city</th>\n",
              "      <th>statezip</th>\n",
              "      <th>country</th>\n",
              "    </tr>\n",
              "  </thead>\n",
              "  <tbody>\n",
              "    <tr>\n",
              "      <th>0</th>\n",
              "      <td>02-05-2014 0:00</td>\n",
              "      <td>3.130000e+05</td>\n",
              "      <td>3</td>\n",
              "      <td>1.50</td>\n",
              "      <td>1340</td>\n",
              "      <td>7912</td>\n",
              "      <td>1.5</td>\n",
              "      <td>0</td>\n",
              "      <td>0</td>\n",
              "      <td>3</td>\n",
              "      <td>1340</td>\n",
              "      <td>0</td>\n",
              "      <td>1955</td>\n",
              "      <td>2005</td>\n",
              "      <td>18810 Densmore Ave N</td>\n",
              "      <td>Shoreline</td>\n",
              "      <td>WA 98133</td>\n",
              "      <td>USA</td>\n",
              "    </tr>\n",
              "    <tr>\n",
              "      <th>1</th>\n",
              "      <td>02-05-2014 0:00</td>\n",
              "      <td>2.384000e+06</td>\n",
              "      <td>5</td>\n",
              "      <td>2.50</td>\n",
              "      <td>3650</td>\n",
              "      <td>9050</td>\n",
              "      <td>2.0</td>\n",
              "      <td>0</td>\n",
              "      <td>4</td>\n",
              "      <td>5</td>\n",
              "      <td>3370</td>\n",
              "      <td>280</td>\n",
              "      <td>1921</td>\n",
              "      <td>0</td>\n",
              "      <td>709 W Blaine St</td>\n",
              "      <td>Seattle</td>\n",
              "      <td>WA 98119</td>\n",
              "      <td>USA</td>\n",
              "    </tr>\n",
              "    <tr>\n",
              "      <th>2</th>\n",
              "      <td>02-05-2014 0:00</td>\n",
              "      <td>3.420000e+05</td>\n",
              "      <td>3</td>\n",
              "      <td>2.00</td>\n",
              "      <td>1930</td>\n",
              "      <td>11947</td>\n",
              "      <td>1.0</td>\n",
              "      <td>0</td>\n",
              "      <td>0</td>\n",
              "      <td>4</td>\n",
              "      <td>1930</td>\n",
              "      <td>0</td>\n",
              "      <td>1966</td>\n",
              "      <td>0</td>\n",
              "      <td>26206-26214 143rd Ave SE</td>\n",
              "      <td>Kent</td>\n",
              "      <td>WA 98042</td>\n",
              "      <td>USA</td>\n",
              "    </tr>\n",
              "    <tr>\n",
              "      <th>3</th>\n",
              "      <td>02-05-2014 0:00</td>\n",
              "      <td>4.200000e+05</td>\n",
              "      <td>3</td>\n",
              "      <td>2.25</td>\n",
              "      <td>2000</td>\n",
              "      <td>8030</td>\n",
              "      <td>1.0</td>\n",
              "      <td>0</td>\n",
              "      <td>0</td>\n",
              "      <td>4</td>\n",
              "      <td>1000</td>\n",
              "      <td>1000</td>\n",
              "      <td>1963</td>\n",
              "      <td>0</td>\n",
              "      <td>857 170th Pl NE</td>\n",
              "      <td>Bellevue</td>\n",
              "      <td>WA 98008</td>\n",
              "      <td>USA</td>\n",
              "    </tr>\n",
              "    <tr>\n",
              "      <th>4</th>\n",
              "      <td>02-05-2014 0:00</td>\n",
              "      <td>5.500000e+05</td>\n",
              "      <td>4</td>\n",
              "      <td>2.50</td>\n",
              "      <td>1940</td>\n",
              "      <td>10500</td>\n",
              "      <td>1.0</td>\n",
              "      <td>0</td>\n",
              "      <td>0</td>\n",
              "      <td>4</td>\n",
              "      <td>1140</td>\n",
              "      <td>800</td>\n",
              "      <td>1976</td>\n",
              "      <td>1992</td>\n",
              "      <td>9105 170th Ave NE</td>\n",
              "      <td>Redmond</td>\n",
              "      <td>WA 98052</td>\n",
              "      <td>USA</td>\n",
              "    </tr>\n",
              "    <tr>\n",
              "      <th>...</th>\n",
              "      <td>...</td>\n",
              "      <td>...</td>\n",
              "      <td>...</td>\n",
              "      <td>...</td>\n",
              "      <td>...</td>\n",
              "      <td>...</td>\n",
              "      <td>...</td>\n",
              "      <td>...</td>\n",
              "      <td>...</td>\n",
              "      <td>...</td>\n",
              "      <td>...</td>\n",
              "      <td>...</td>\n",
              "      <td>...</td>\n",
              "      <td>...</td>\n",
              "      <td>...</td>\n",
              "      <td>...</td>\n",
              "      <td>...</td>\n",
              "      <td>...</td>\n",
              "    </tr>\n",
              "    <tr>\n",
              "      <th>4595</th>\n",
              "      <td>09-07-2014 0:00</td>\n",
              "      <td>3.081667e+05</td>\n",
              "      <td>3</td>\n",
              "      <td>1.75</td>\n",
              "      <td>1510</td>\n",
              "      <td>6360</td>\n",
              "      <td>1.0</td>\n",
              "      <td>0</td>\n",
              "      <td>0</td>\n",
              "      <td>4</td>\n",
              "      <td>1510</td>\n",
              "      <td>0</td>\n",
              "      <td>1954</td>\n",
              "      <td>1979</td>\n",
              "      <td>501 N 143rd St</td>\n",
              "      <td>Seattle</td>\n",
              "      <td>WA 98133</td>\n",
              "      <td>USA</td>\n",
              "    </tr>\n",
              "    <tr>\n",
              "      <th>4596</th>\n",
              "      <td>09-07-2014 0:00</td>\n",
              "      <td>5.343333e+05</td>\n",
              "      <td>3</td>\n",
              "      <td>2.50</td>\n",
              "      <td>1460</td>\n",
              "      <td>7573</td>\n",
              "      <td>2.0</td>\n",
              "      <td>0</td>\n",
              "      <td>0</td>\n",
              "      <td>3</td>\n",
              "      <td>1460</td>\n",
              "      <td>0</td>\n",
              "      <td>1983</td>\n",
              "      <td>2009</td>\n",
              "      <td>14855 SE 10th Pl</td>\n",
              "      <td>Bellevue</td>\n",
              "      <td>WA 98007</td>\n",
              "      <td>USA</td>\n",
              "    </tr>\n",
              "    <tr>\n",
              "      <th>4597</th>\n",
              "      <td>09-07-2014 0:00</td>\n",
              "      <td>4.169042e+05</td>\n",
              "      <td>3</td>\n",
              "      <td>2.50</td>\n",
              "      <td>3010</td>\n",
              "      <td>7014</td>\n",
              "      <td>2.0</td>\n",
              "      <td>0</td>\n",
              "      <td>0</td>\n",
              "      <td>3</td>\n",
              "      <td>3010</td>\n",
              "      <td>0</td>\n",
              "      <td>2009</td>\n",
              "      <td>0</td>\n",
              "      <td>759 Ilwaco Pl NE</td>\n",
              "      <td>Renton</td>\n",
              "      <td>WA 98059</td>\n",
              "      <td>USA</td>\n",
              "    </tr>\n",
              "    <tr>\n",
              "      <th>4598</th>\n",
              "      <td>10-07-2014 0:00</td>\n",
              "      <td>2.034000e+05</td>\n",
              "      <td>4</td>\n",
              "      <td>2.00</td>\n",
              "      <td>2090</td>\n",
              "      <td>6630</td>\n",
              "      <td>1.0</td>\n",
              "      <td>0</td>\n",
              "      <td>0</td>\n",
              "      <td>3</td>\n",
              "      <td>1070</td>\n",
              "      <td>1020</td>\n",
              "      <td>1974</td>\n",
              "      <td>0</td>\n",
              "      <td>5148 S Creston St</td>\n",
              "      <td>Seattle</td>\n",
              "      <td>WA 98178</td>\n",
              "      <td>USA</td>\n",
              "    </tr>\n",
              "    <tr>\n",
              "      <th>4599</th>\n",
              "      <td>10-07-2014 0:00</td>\n",
              "      <td>2.206000e+05</td>\n",
              "      <td>3</td>\n",
              "      <td>2.50</td>\n",
              "      <td>1490</td>\n",
              "      <td>8102</td>\n",
              "      <td>2.0</td>\n",
              "      <td>0</td>\n",
              "      <td>0</td>\n",
              "      <td>4</td>\n",
              "      <td>1490</td>\n",
              "      <td>0</td>\n",
              "      <td>1990</td>\n",
              "      <td>0</td>\n",
              "      <td>18717 SE 258th St</td>\n",
              "      <td>Covington</td>\n",
              "      <td>WA 98042</td>\n",
              "      <td>USA</td>\n",
              "    </tr>\n",
              "  </tbody>\n",
              "</table>\n",
              "<p>4600 rows × 18 columns</p>\n",
              "</div>\n",
              "    <div class=\"colab-df-buttons\">\n",
              "\n",
              "  <div class=\"colab-df-container\">\n",
              "    <button class=\"colab-df-convert\" onclick=\"convertToInteractive('df-d08d77e0-00b2-478d-8e60-c10089e38a77')\"\n",
              "            title=\"Convert this dataframe to an interactive table.\"\n",
              "            style=\"display:none;\">\n",
              "\n",
              "  <svg xmlns=\"http://www.w3.org/2000/svg\" height=\"24px\" viewBox=\"0 -960 960 960\">\n",
              "    <path d=\"M120-120v-720h720v720H120Zm60-500h600v-160H180v160Zm220 220h160v-160H400v160Zm0 220h160v-160H400v160ZM180-400h160v-160H180v160Zm440 0h160v-160H620v160ZM180-180h160v-160H180v160Zm440 0h160v-160H620v160Z\"/>\n",
              "  </svg>\n",
              "    </button>\n",
              "\n",
              "  <style>\n",
              "    .colab-df-container {\n",
              "      display:flex;\n",
              "      gap: 12px;\n",
              "    }\n",
              "\n",
              "    .colab-df-convert {\n",
              "      background-color: #E8F0FE;\n",
              "      border: none;\n",
              "      border-radius: 50%;\n",
              "      cursor: pointer;\n",
              "      display: none;\n",
              "      fill: #1967D2;\n",
              "      height: 32px;\n",
              "      padding: 0 0 0 0;\n",
              "      width: 32px;\n",
              "    }\n",
              "\n",
              "    .colab-df-convert:hover {\n",
              "      background-color: #E2EBFA;\n",
              "      box-shadow: 0px 1px 2px rgba(60, 64, 67, 0.3), 0px 1px 3px 1px rgba(60, 64, 67, 0.15);\n",
              "      fill: #174EA6;\n",
              "    }\n",
              "\n",
              "    .colab-df-buttons div {\n",
              "      margin-bottom: 4px;\n",
              "    }\n",
              "\n",
              "    [theme=dark] .colab-df-convert {\n",
              "      background-color: #3B4455;\n",
              "      fill: #D2E3FC;\n",
              "    }\n",
              "\n",
              "    [theme=dark] .colab-df-convert:hover {\n",
              "      background-color: #434B5C;\n",
              "      box-shadow: 0px 1px 3px 1px rgba(0, 0, 0, 0.15);\n",
              "      filter: drop-shadow(0px 1px 2px rgba(0, 0, 0, 0.3));\n",
              "      fill: #FFFFFF;\n",
              "    }\n",
              "  </style>\n",
              "\n",
              "    <script>\n",
              "      const buttonEl =\n",
              "        document.querySelector('#df-d08d77e0-00b2-478d-8e60-c10089e38a77 button.colab-df-convert');\n",
              "      buttonEl.style.display =\n",
              "        google.colab.kernel.accessAllowed ? 'block' : 'none';\n",
              "\n",
              "      async function convertToInteractive(key) {\n",
              "        const element = document.querySelector('#df-d08d77e0-00b2-478d-8e60-c10089e38a77');\n",
              "        const dataTable =\n",
              "          await google.colab.kernel.invokeFunction('convertToInteractive',\n",
              "                                                    [key], {});\n",
              "        if (!dataTable) return;\n",
              "\n",
              "        const docLinkHtml = 'Like what you see? Visit the ' +\n",
              "          '<a target=\"_blank\" href=https://colab.research.google.com/notebooks/data_table.ipynb>data table notebook</a>'\n",
              "          + ' to learn more about interactive tables.';\n",
              "        element.innerHTML = '';\n",
              "        dataTable['output_type'] = 'display_data';\n",
              "        await google.colab.output.renderOutput(dataTable, element);\n",
              "        const docLink = document.createElement('div');\n",
              "        docLink.innerHTML = docLinkHtml;\n",
              "        element.appendChild(docLink);\n",
              "      }\n",
              "    </script>\n",
              "  </div>\n",
              "\n",
              "\n",
              "<div id=\"df-a4b1cb24-c3c3-47be-a6b7-2c7c8af70fd9\">\n",
              "  <button class=\"colab-df-quickchart\" onclick=\"quickchart('df-a4b1cb24-c3c3-47be-a6b7-2c7c8af70fd9')\"\n",
              "            title=\"Suggest charts.\"\n",
              "            style=\"display:none;\">\n",
              "\n",
              "<svg xmlns=\"http://www.w3.org/2000/svg\" height=\"24px\"viewBox=\"0 0 24 24\"\n",
              "     width=\"24px\">\n",
              "    <g>\n",
              "        <path d=\"M19 3H5c-1.1 0-2 .9-2 2v14c0 1.1.9 2 2 2h14c1.1 0 2-.9 2-2V5c0-1.1-.9-2-2-2zM9 17H7v-7h2v7zm4 0h-2V7h2v10zm4 0h-2v-4h2v4z\"/>\n",
              "    </g>\n",
              "</svg>\n",
              "  </button>\n",
              "\n",
              "<style>\n",
              "  .colab-df-quickchart {\n",
              "      --bg-color: #E8F0FE;\n",
              "      --fill-color: #1967D2;\n",
              "      --hover-bg-color: #E2EBFA;\n",
              "      --hover-fill-color: #174EA6;\n",
              "      --disabled-fill-color: #AAA;\n",
              "      --disabled-bg-color: #DDD;\n",
              "  }\n",
              "\n",
              "  [theme=dark] .colab-df-quickchart {\n",
              "      --bg-color: #3B4455;\n",
              "      --fill-color: #D2E3FC;\n",
              "      --hover-bg-color: #434B5C;\n",
              "      --hover-fill-color: #FFFFFF;\n",
              "      --disabled-bg-color: #3B4455;\n",
              "      --disabled-fill-color: #666;\n",
              "  }\n",
              "\n",
              "  .colab-df-quickchart {\n",
              "    background-color: var(--bg-color);\n",
              "    border: none;\n",
              "    border-radius: 50%;\n",
              "    cursor: pointer;\n",
              "    display: none;\n",
              "    fill: var(--fill-color);\n",
              "    height: 32px;\n",
              "    padding: 0;\n",
              "    width: 32px;\n",
              "  }\n",
              "\n",
              "  .colab-df-quickchart:hover {\n",
              "    background-color: var(--hover-bg-color);\n",
              "    box-shadow: 0 1px 2px rgba(60, 64, 67, 0.3), 0 1px 3px 1px rgba(60, 64, 67, 0.15);\n",
              "    fill: var(--button-hover-fill-color);\n",
              "  }\n",
              "\n",
              "  .colab-df-quickchart-complete:disabled,\n",
              "  .colab-df-quickchart-complete:disabled:hover {\n",
              "    background-color: var(--disabled-bg-color);\n",
              "    fill: var(--disabled-fill-color);\n",
              "    box-shadow: none;\n",
              "  }\n",
              "\n",
              "  .colab-df-spinner {\n",
              "    border: 2px solid var(--fill-color);\n",
              "    border-color: transparent;\n",
              "    border-bottom-color: var(--fill-color);\n",
              "    animation:\n",
              "      spin 1s steps(1) infinite;\n",
              "  }\n",
              "\n",
              "  @keyframes spin {\n",
              "    0% {\n",
              "      border-color: transparent;\n",
              "      border-bottom-color: var(--fill-color);\n",
              "      border-left-color: var(--fill-color);\n",
              "    }\n",
              "    20% {\n",
              "      border-color: transparent;\n",
              "      border-left-color: var(--fill-color);\n",
              "      border-top-color: var(--fill-color);\n",
              "    }\n",
              "    30% {\n",
              "      border-color: transparent;\n",
              "      border-left-color: var(--fill-color);\n",
              "      border-top-color: var(--fill-color);\n",
              "      border-right-color: var(--fill-color);\n",
              "    }\n",
              "    40% {\n",
              "      border-color: transparent;\n",
              "      border-right-color: var(--fill-color);\n",
              "      border-top-color: var(--fill-color);\n",
              "    }\n",
              "    60% {\n",
              "      border-color: transparent;\n",
              "      border-right-color: var(--fill-color);\n",
              "    }\n",
              "    80% {\n",
              "      border-color: transparent;\n",
              "      border-right-color: var(--fill-color);\n",
              "      border-bottom-color: var(--fill-color);\n",
              "    }\n",
              "    90% {\n",
              "      border-color: transparent;\n",
              "      border-bottom-color: var(--fill-color);\n",
              "    }\n",
              "  }\n",
              "</style>\n",
              "\n",
              "  <script>\n",
              "    async function quickchart(key) {\n",
              "      const quickchartButtonEl =\n",
              "        document.querySelector('#' + key + ' button');\n",
              "      quickchartButtonEl.disabled = true;  // To prevent multiple clicks.\n",
              "      quickchartButtonEl.classList.add('colab-df-spinner');\n",
              "      try {\n",
              "        const charts = await google.colab.kernel.invokeFunction(\n",
              "            'suggestCharts', [key], {});\n",
              "      } catch (error) {\n",
              "        console.error('Error during call to suggestCharts:', error);\n",
              "      }\n",
              "      quickchartButtonEl.classList.remove('colab-df-spinner');\n",
              "      quickchartButtonEl.classList.add('colab-df-quickchart-complete');\n",
              "    }\n",
              "    (() => {\n",
              "      let quickchartButtonEl =\n",
              "        document.querySelector('#df-a4b1cb24-c3c3-47be-a6b7-2c7c8af70fd9 button');\n",
              "      quickchartButtonEl.style.display =\n",
              "        google.colab.kernel.accessAllowed ? 'block' : 'none';\n",
              "    })();\n",
              "  </script>\n",
              "</div>\n",
              "    </div>\n",
              "  </div>\n"
            ]
          },
          "metadata": {},
          "execution_count": 75
        }
      ]
    },
    {
      "cell_type": "code",
      "source": [
        "df.isnull().sum()"
      ],
      "metadata": {
        "colab": {
          "base_uri": "https://localhost:8080/"
        },
        "id": "U42UJVfWMJEO",
        "outputId": "2714178d-c114-4a73-b325-7df6152aab5b"
      },
      "execution_count": 76,
      "outputs": [
        {
          "output_type": "execute_result",
          "data": {
            "text/plain": [
              "date             0\n",
              "price            0\n",
              "bedrooms         0\n",
              "bathrooms        0\n",
              "sqft_living      0\n",
              "sqft_lot         0\n",
              "floors           0\n",
              "waterfront       0\n",
              "view             0\n",
              "condition        0\n",
              "sqft_above       0\n",
              "sqft_basement    0\n",
              "yr_built         0\n",
              "yr_renovated     0\n",
              "street           0\n",
              "city             0\n",
              "statezip         0\n",
              "country          0\n",
              "dtype: int64"
            ]
          },
          "metadata": {},
          "execution_count": 76
        }
      ]
    },
    {
      "cell_type": "code",
      "source": [
        "df.dtypes"
      ],
      "metadata": {
        "colab": {
          "base_uri": "https://localhost:8080/"
        },
        "id": "e1CH70sz55HG",
        "outputId": "a6993182-8cfc-47f2-f9d7-d3850e7f075f"
      },
      "execution_count": 77,
      "outputs": [
        {
          "output_type": "execute_result",
          "data": {
            "text/plain": [
              "date              object\n",
              "price            float64\n",
              "bedrooms           int64\n",
              "bathrooms        float64\n",
              "sqft_living        int64\n",
              "sqft_lot           int64\n",
              "floors           float64\n",
              "waterfront         int64\n",
              "view               int64\n",
              "condition          int64\n",
              "sqft_above         int64\n",
              "sqft_basement      int64\n",
              "yr_built           int64\n",
              "yr_renovated       int64\n",
              "street            object\n",
              "city              object\n",
              "statezip          object\n",
              "country           object\n",
              "dtype: object"
            ]
          },
          "metadata": {},
          "execution_count": 77
        }
      ]
    },
    {
      "cell_type": "markdown",
      "source": [
        "EDA"
      ],
      "metadata": {
        "id": "UZnkS87sLdPQ"
      }
    },
    {
      "cell_type": "code",
      "source": [
        "df.hist(figsize=(12,12))\n",
        "plt.show()"
      ],
      "metadata": {
        "colab": {
          "base_uri": "https://localhost:8080/",
          "height": 883
        },
        "id": "-RtQN8oLJIUe",
        "outputId": "0922814c-7edc-4a2e-a41d-da6e8f9d21d9"
      },
      "execution_count": 78,
      "outputs": [
        {
          "output_type": "display_data",
          "data": {
            "text/plain": [
              "<Figure size 1200x1200 with 16 Axes>"
            ],
            "image/png": "[encoded data removed]"
          },
          "metadata": {}
        }
      ]
    },
    {
      "cell_type": "code",
      "source": [
        "bedroom_groups = df.groupby('bedrooms')\n",
        "highest_prices = bedroom_groups['price'].max()\n",
        "lowest_prices = bedroom_groups['price'].min()\n",
        "high_sqft = bedroom_groups['sqft_living'].max()\n",
        "low_sqft = bedroom_groups['sqft_living'].min()\n",
        "result_df = pd.DataFrame({\n",
        "    'Highest Price': highest_prices,\n",
        "    'Lowest Price': lowest_prices,\n",
        "    'Highest sqft' : high_sqft,\n",
        "    'Lowest sqft' : low_sqft\n",
        "})\n",
        "print(result_df)"
      ],
      "metadata": {
        "colab": {
          "base_uri": "https://localhost:8080/"
        },
        "id": "4hKg87DJMWFf",
        "outputId": "94b6313c-95fa-4ed8-ea5f-9fa80a8eabf2"
      },
      "execution_count": null,
      "outputs": [
        {
          "output_type": "stream",
          "name": "stdout",
          "text": [
            "          Highest Price  Lowest Price  Highest sqft  Lowest sqft\n",
            "bedrooms                                                        \n",
            "0             1295648.0     1095000.0          4810         3064\n",
            "1              540000.0           0.0          2140          370\n",
            "2             1695000.0           0.0          3180          520\n",
            "3            26590000.0           0.0          5230          490\n",
            "4             4489000.0           0.0          6640          980\n",
            "5             7062500.0           0.0         10040         1120\n",
            "6             3100000.0           0.0          6980         1370\n",
            "7             3200000.0      280000.0         13540         1940\n",
            "8             1970000.0      340000.0          4440         2790\n",
            "9              599999.0      599999.0          3830         3830\n"
          ]
        }
      ]
    },
    {
      "cell_type": "code",
      "source": [
        "b_groups = df.groupby('condition')\n",
        "highest_prices = b_groups['price'].max()\n",
        "lowest_prices = b_groups['price'].min()\n",
        "high_sqft = b_groups['sqft_living'].max()\n",
        "low_sqft = b_groups['sqft_living'].min()\n",
        "print('Condition wise')\n",
        "result_df = pd.DataFrame({\n",
        "    'Highest Price': highest_prices,\n",
        "    'Lowest Price': lowest_prices,\n",
        "    'Highest sqft' : high_sqft,\n",
        "    'Lowest sqft' : low_sqft\n",
        "})\n",
        "print(result_df)"
      ],
      "metadata": {
        "colab": {
          "base_uri": "https://localhost:8080/"
        },
        "id": "0MLJYnSQN6Zj",
        "outputId": "b0d2f496-81e5-4b56-8668-b70d0777ff8b"
      },
      "execution_count": null,
      "outputs": [
        {
          "output_type": "stream",
          "name": "stdout",
          "text": [
            "Condition wise\n",
            "           Highest Price  Lowest Price  Highest sqft  Lowest sqft\n",
            "condition                                                        \n",
            "1               550000.0        7800.0          1940          780\n",
            "2              2555000.0           0.0          5300          430\n",
            "3             12899000.0           0.0         13540          380\n",
            "4             26590000.0           0.0          7050          490\n",
            "5              3200000.0           0.0          6210          370\n"
          ]
        }
      ]
    },
    {
      "cell_type": "code",
      "source": [
        "result = df.groupby('condition')['price'].agg(['max']).reset_index()\n",
        "plt.figure(figsize=(10, 6))\n",
        "plt.bar(result['condition'].astype(str), result['max'], label='Highest Price')\n",
        "plt.xlabel('Condition')\n",
        "plt.ylabel('Price')\n",
        "plt.title('Highest and Lowest Prices by Condition')\n",
        "plt.legend()\n",
        "plt.show()"
      ],
      "metadata": {
        "colab": {
          "base_uri": "https://localhost:8080/",
          "height": 564
        },
        "id": "6Jkit4a-3Mrj",
        "outputId": "5a482b54-89ef-4fe2-d01b-df4f695a4201"
      },
      "execution_count": null,
      "outputs": [
        {
          "output_type": "display_data",
          "data": {
            "text/plain": [
              "<Figure size 1000x600 with 1 Axes>"
            ],
            "image/png": "[encoded data removed]"
          },
          "metadata": {}
        }
      ]
    },
    {
      "cell_type": "code",
      "source": [
        "b_groups = df.groupby('view')\n",
        "highest_prices = b_groups['price'].max()\n",
        "lowest_prices = b_groups['price'].min()\n",
        "high_sqft = b_groups['sqft_living'].max()\n",
        "low_sqft = b_groups['sqft_living'].min()\n",
        "print('Views')\n",
        "result_df = pd.DataFrame({\n",
        "    'Highest Price': highest_prices,\n",
        "    'Lowest Price': lowest_prices,\n",
        "    'Highest sqft' : high_sqft,\n",
        "    'Lowest sqft' : low_sqft\n",
        "})\n",
        "print(result_df)"
      ],
      "metadata": {
        "colab": {
          "base_uri": "https://localhost:8080/"
        },
        "id": "8DJRr4DTPYDk",
        "outputId": "b0d37a14-ce77-44ec-f007-1ec18e7295d5"
      },
      "execution_count": null,
      "outputs": [
        {
          "output_type": "stream",
          "name": "stdout",
          "text": [
            "Views\n",
            "      Highest Price  Lowest Price  Highest sqft  Lowest sqft\n",
            "view                                                        \n",
            "0        26590000.0        0.0000          8020          370\n",
            "1         2400000.0   180785.7143          5270         1170\n",
            "2         7062500.0        0.0000         10040          800\n",
            "3         2475000.0        0.0000          6490          830\n",
            "4         4668000.0        0.0000         13540          840\n"
          ]
        }
      ]
    },
    {
      "cell_type": "code",
      "source": [
        "city_10 = df.groupby('city')['price'].max().sort_values(ascending=False)[:10]\n",
        "plt.figure(figsize=(10, 6))\n",
        "city_10.plot(kind='bar', color='pink')\n",
        "plt.xlabel('Cities')\n",
        "plt.ylabel('Highest Price')\n",
        "plt.title('Top 10 Highest Prices by City')\n",
        "plt.show()"
      ],
      "metadata": {
        "colab": {
          "base_uri": "https://localhost:8080/",
          "height": 644
        },
        "id": "sD05833j8D9q",
        "outputId": "5eaa4579-278b-484e-e59e-f6f4d1ef9a45"
      },
      "execution_count": null,
      "outputs": [
        {
          "output_type": "display_data",
          "data": {
            "text/plain": [
              "<Figure size 1000x600 with 1 Axes>"
            ],
            "image/png": "[encoded data removed]"
          },
          "metadata": {}
        }
      ]
    },
    {
      "cell_type": "markdown",
      "source": [
        "From here we know that Price is our target variable.\n",
        "We can compile from above data:\n",
        "\n",
        "\n",
        "1.   \"sqft_living\" has the highest positive correlation.\n",
        "2.   \"bathrooms\" and \"sqft_above\" also have strong positive correlations.\n",
        "3.   \"floors\" and \"view\" have moderate positive correlations.\n",
        "\n",
        "4.  \"yr_renovated\" has a negative correlation.\n"
      ],
      "metadata": {
        "id": "V-Vzlt2azo1q"
      }
    },
    {
      "cell_type": "code",
      "source": [
        "#removing columns with non-important entries.\n",
        "df=df.drop(columns=['date','street','statezip','country','city'])"
      ],
      "metadata": {
        "id": "hWT34LDd4lGg"
      },
      "execution_count": 79,
      "outputs": []
    },
    {
      "cell_type": "code",
      "source": [
        "X = df.drop(columns=['price','city'])\n",
        "y = df['price']\n",
        "rf = RandomForestRegressor(n_estimators=100)\n",
        "rf.fit(X, y)\n",
        "feature_importance = rf.feature_importances_\n",
        "print(\"Feature Importances:\")\n",
        "for feature, importance in zip(X.columns, feature_importance):\n",
        "    print(f\"{feature}: {importance}\")"
      ],
      "metadata": {
        "colab": {
          "base_uri": "https://localhost:8080/"
        },
        "id": "oNE_QHIV4NPf",
        "outputId": "532e266a-00ec-40c0-8300-f142e24ab170"
      },
      "execution_count": null,
      "outputs": [
        {
          "output_type": "stream",
          "name": "stdout",
          "text": [
            "Feature Importances:\n",
            "bedrooms: 0.02287979542863363\n",
            "bathrooms: 0.06724214525398019\n",
            "sqft_living: 0.3137749059167545\n",
            "sqft_lot: 0.13650737740172528\n",
            "floors: 0.03229174588319465\n",
            "waterfront: 0.00780403488845206\n",
            "view: 0.015889391524479986\n",
            "condition: 0.05172443665835428\n",
            "sqft_above: 0.08960740072495994\n",
            "sqft_basement: 0.03790957885726198\n",
            "yr_built: 0.19071484102483585\n",
            "yr_renovated: 0.03365434643736762\n"
          ]
        }
      ]
    },
    {
      "cell_type": "code",
      "source": [
        "df.corr()"
      ],
      "metadata": {
        "colab": {
          "base_uri": "https://localhost:8080/",
          "height": 477
        },
        "id": "2y09BsnSHkI0",
        "outputId": "a40dd7fe-9385-40c9-d9ae-333e6a4ee4bf"
      },
      "execution_count": 80,
      "outputs": [
        {
          "output_type": "execute_result",
          "data": {
            "text/plain": [
              "                  price  bedrooms  bathrooms  sqft_living  sqft_lot    floors  \\\n",
              "price          1.000000  0.200336   0.327110     0.430410  0.050451  0.151461   \n",
              "bedrooms       0.200336  1.000000   0.545920     0.594884  0.068819  0.177895   \n",
              "bathrooms      0.327110  0.545920   1.000000     0.761154  0.107837  0.486428   \n",
              "sqft_living    0.430410  0.594884   0.761154     1.000000  0.210538  0.344850   \n",
              "sqft_lot       0.050451  0.068819   0.107837     0.210538  1.000000  0.003750   \n",
              "floors         0.151461  0.177895   0.486428     0.344850  0.003750  1.000000   \n",
              "waterfront     0.135648 -0.003483   0.076232     0.117616  0.017241  0.022024   \n",
              "view           0.228504  0.111028   0.211960     0.311009  0.073907  0.031211   \n",
              "condition      0.034915  0.025080  -0.119994    -0.062826  0.000558 -0.275013   \n",
              "sqft_above     0.367570  0.484705   0.689918     0.876443  0.216455  0.522814   \n",
              "sqft_basement  0.210427  0.334165   0.298020     0.447206  0.034842 -0.255510   \n",
              "yr_built       0.021857  0.142461   0.463498     0.287775  0.050706  0.467481   \n",
              "yr_renovated  -0.028774 -0.061082  -0.215886    -0.122817 -0.022730 -0.233996   \n",
              "\n",
              "               waterfront      view  condition  sqft_above  sqft_basement  \\\n",
              "price            0.135648  0.228504   0.034915    0.367570       0.210427   \n",
              "bedrooms        -0.003483  0.111028   0.025080    0.484705       0.334165   \n",
              "bathrooms        0.076232  0.211960  -0.119994    0.689918       0.298020   \n",
              "sqft_living      0.117616  0.311009  -0.062826    0.876443       0.447206   \n",
              "sqft_lot         0.017241  0.073907   0.000558    0.216455       0.034842   \n",
              "floors           0.022024  0.031211  -0.275013    0.522814      -0.255510   \n",
              "waterfront       1.000000  0.360935   0.000352    0.078911       0.097501   \n",
              "view             0.360935  1.000000   0.063077    0.174327       0.321602   \n",
              "condition        0.000352  0.063077   1.000000   -0.178196       0.200632   \n",
              "sqft_above       0.078911  0.174327  -0.178196    1.000000      -0.038723   \n",
              "sqft_basement    0.097501  0.321602   0.200632   -0.038723       1.000000   \n",
              "yr_built        -0.023563 -0.064465  -0.399698    0.408535      -0.161675   \n",
              "yr_renovated     0.008625  0.022967  -0.186818   -0.160426       0.043125   \n",
              "\n",
              "               yr_built  yr_renovated  \n",
              "price          0.021857     -0.028774  \n",
              "bedrooms       0.142461     -0.061082  \n",
              "bathrooms      0.463498     -0.215886  \n",
              "sqft_living    0.287775     -0.122817  \n",
              "sqft_lot       0.050706     -0.022730  \n",
              "floors         0.467481     -0.233996  \n",
              "waterfront    -0.023563      0.008625  \n",
              "view          -0.064465      0.022967  \n",
              "condition     -0.399698     -0.186818  \n",
              "sqft_above     0.408535     -0.160426  \n",
              "sqft_basement -0.161675      0.043125  \n",
              "yr_built       1.000000     -0.321342  \n",
              "yr_renovated  -0.321342      1.000000  "
            ],
            "text/html": [
              "\n",
              "  <div id=\"df-6cbd325d-ef4d-4a14-99de-70ab4e215e80\" class=\"colab-df-container\">\n",
              "    <div>\n",
              "<style scoped>\n",
              "    .dataframe tbody tr th:only-of-type {\n",
              "        vertical-align: middle;\n",
              "    }\n",
              "\n",
              "    .dataframe tbody tr th {\n",
              "        vertical-align: top;\n",
              "    }\n",
              "\n",
              "    .dataframe thead th {\n",
              "        text-align: right;\n",
              "    }\n",
              "</style>\n",
              "<table border=\"1\" class=\"dataframe\">\n",
              "  <thead>\n",
              "    <tr style=\"text-align: right;\">\n",
              "      <th></th>\n",
              "      <th>price</th>\n",
              "      <th>bedrooms</th>\n",
              "      <th>bathrooms</th>\n",
              "      <th>sqft_living</th>\n",
              "      <th>sqft_lot</th>\n",
              "      <th>floors</th>\n",
              "      <th>waterfront</th>\n",
              "      <th>view</th>\n",
              "      <th>condition</th>\n",
              "      <th>sqft_above</th>\n",
              "      <th>sqft_basement</th>\n",
              "      <th>yr_built</th>\n",
              "      <th>yr_renovated</th>\n",
              "    </tr>\n",
              "  </thead>\n",
              "  <tbody>\n",
              "    <tr>\n",
              "      <th>price</th>\n",
              "      <td>1.000000</td>\n",
              "      <td>0.200336</td>\n",
              "      <td>0.327110</td>\n",
              "      <td>0.430410</td>\n",
              "      <td>0.050451</td>\n",
              "      <td>0.151461</td>\n",
              "      <td>0.135648</td>\n",
              "      <td>0.228504</td>\n",
              "      <td>0.034915</td>\n",
              "      <td>0.367570</td>\n",
              "      <td>0.210427</td>\n",
              "      <td>0.021857</td>\n",
              "      <td>-0.028774</td>\n",
              "    </tr>\n",
              "    <tr>\n",
              "      <th>bedrooms</th>\n",
              "      <td>0.200336</td>\n",
              "      <td>1.000000</td>\n",
              "      <td>0.545920</td>\n",
              "      <td>0.594884</td>\n",
              "      <td>0.068819</td>\n",
              "      <td>0.177895</td>\n",
              "      <td>-0.003483</td>\n",
              "      <td>0.111028</td>\n",
              "      <td>0.025080</td>\n",
              "      <td>0.484705</td>\n",
              "      <td>0.334165</td>\n",
              "      <td>0.142461</td>\n",
              "      <td>-0.061082</td>\n",
              "    </tr>\n",
              "    <tr>\n",
              "      <th>bathrooms</th>\n",
              "      <td>0.327110</td>\n",
              "      <td>0.545920</td>\n",
              "      <td>1.000000</td>\n",
              "      <td>0.761154</td>\n",
              "      <td>0.107837</td>\n",
              "      <td>0.486428</td>\n",
              "      <td>0.076232</td>\n",
              "      <td>0.211960</td>\n",
              "      <td>-0.119994</td>\n",
              "      <td>0.689918</td>\n",
              "      <td>0.298020</td>\n",
              "      <td>0.463498</td>\n",
              "      <td>-0.215886</td>\n",
              "    </tr>\n",
              "    <tr>\n",
              "      <th>sqft_living</th>\n",
              "      <td>0.430410</td>\n",
              "      <td>0.594884</td>\n",
              "      <td>0.761154</td>\n",
              "      <td>1.000000</td>\n",
              "      <td>0.210538</td>\n",
              "      <td>0.344850</td>\n",
              "      <td>0.117616</td>\n",
              "      <td>0.311009</td>\n",
              "      <td>-0.062826</td>\n",
              "      <td>0.876443</td>\n",
              "      <td>0.447206</td>\n",
              "      <td>0.287775</td>\n",
              "      <td>-0.122817</td>\n",
              "    </tr>\n",
              "    <tr>\n",
              "      <th>sqft_lot</th>\n",
              "      <td>0.050451</td>\n",
              "      <td>0.068819</td>\n",
              "      <td>0.107837</td>\n",
              "      <td>0.210538</td>\n",
              "      <td>1.000000</td>\n",
              "      <td>0.003750</td>\n",
              "      <td>0.017241</td>\n",
              "      <td>0.073907</td>\n",
              "      <td>0.000558</td>\n",
              "      <td>0.216455</td>\n",
              "      <td>0.034842</td>\n",
              "      <td>0.050706</td>\n",
              "      <td>-0.022730</td>\n",
              "    </tr>\n",
              "    <tr>\n",
              "      <th>floors</th>\n",
              "      <td>0.151461</td>\n",
              "      <td>0.177895</td>\n",
              "      <td>0.486428</td>\n",
              "      <td>0.344850</td>\n",
              "      <td>0.003750</td>\n",
              "      <td>1.000000</td>\n",
              "      <td>0.022024</td>\n",
              "      <td>0.031211</td>\n",
              "      <td>-0.275013</td>\n",
              "      <td>0.522814</td>\n",
              "      <td>-0.255510</td>\n",
              "      <td>0.467481</td>\n",
              "      <td>-0.233996</td>\n",
              "    </tr>\n",
              "    <tr>\n",
              "      <th>waterfront</th>\n",
              "      <td>0.135648</td>\n",
              "      <td>-0.003483</td>\n",
              "      <td>0.076232</td>\n",
              "      <td>0.117616</td>\n",
              "      <td>0.017241</td>\n",
              "      <td>0.022024</td>\n",
              "      <td>1.000000</td>\n",
              "      <td>0.360935</td>\n",
              "      <td>0.000352</td>\n",
              "      <td>0.078911</td>\n",
              "      <td>0.097501</td>\n",
              "      <td>-0.023563</td>\n",
              "      <td>0.008625</td>\n",
              "    </tr>\n",
              "    <tr>\n",
              "      <th>view</th>\n",
              "      <td>0.228504</td>\n",
              "      <td>0.111028</td>\n",
              "      <td>0.211960</td>\n",
              "      <td>0.311009</td>\n",
              "      <td>0.073907</td>\n",
              "      <td>0.031211</td>\n",
              "      <td>0.360935</td>\n",
              "      <td>1.000000</td>\n",
              "      <td>0.063077</td>\n",
              "      <td>0.174327</td>\n",
              "      <td>0.321602</td>\n",
              "      <td>-0.064465</td>\n",
              "      <td>0.022967</td>\n",
              "    </tr>\n",
              "    <tr>\n",
              "      <th>condition</th>\n",
              "      <td>0.034915</td>\n",
              "      <td>0.025080</td>\n",
              "      <td>-0.119994</td>\n",
              "      <td>-0.062826</td>\n",
              "      <td>0.000558</td>\n",
              "      <td>-0.275013</td>\n",
              "      <td>0.000352</td>\n",
              "      <td>0.063077</td>\n",
              "      <td>1.000000</td>\n",
              "      <td>-0.178196</td>\n",
              "      <td>0.200632</td>\n",
              "      <td>-0.399698</td>\n",
              "      <td>-0.186818</td>\n",
              "    </tr>\n",
              "    <tr>\n",
              "      <th>sqft_above</th>\n",
              "      <td>0.367570</td>\n",
              "      <td>0.484705</td>\n",
              "      <td>0.689918</td>\n",
              "      <td>0.876443</td>\n",
              "      <td>0.216455</td>\n",
              "      <td>0.522814</td>\n",
              "      <td>0.078911</td>\n",
              "      <td>0.174327</td>\n",
              "      <td>-0.178196</td>\n",
              "      <td>1.000000</td>\n",
              "      <td>-0.038723</td>\n",
              "      <td>0.408535</td>\n",
              "      <td>-0.160426</td>\n",
              "    </tr>\n",
              "    <tr>\n",
              "      <th>sqft_basement</th>\n",
              "      <td>0.210427</td>\n",
              "      <td>0.334165</td>\n",
              "      <td>0.298020</td>\n",
              "      <td>0.447206</td>\n",
              "      <td>0.034842</td>\n",
              "      <td>-0.255510</td>\n",
              "      <td>0.097501</td>\n",
              "      <td>0.321602</td>\n",
              "      <td>0.200632</td>\n",
              "      <td>-0.038723</td>\n",
              "      <td>1.000000</td>\n",
              "      <td>-0.161675</td>\n",
              "      <td>0.043125</td>\n",
              "    </tr>\n",
              "    <tr>\n",
              "      <th>yr_built</th>\n",
              "      <td>0.021857</td>\n",
              "      <td>0.142461</td>\n",
              "      <td>0.463498</td>\n",
              "      <td>0.287775</td>\n",
              "      <td>0.050706</td>\n",
              "      <td>0.467481</td>\n",
              "      <td>-0.023563</td>\n",
              "      <td>-0.064465</td>\n",
              "      <td>-0.399698</td>\n",
              "      <td>0.408535</td>\n",
              "      <td>-0.161675</td>\n",
              "      <td>1.000000</td>\n",
              "      <td>-0.321342</td>\n",
              "    </tr>\n",
              "    <tr>\n",
              "      <th>yr_renovated</th>\n",
              "      <td>-0.028774</td>\n",
              "      <td>-0.061082</td>\n",
              "      <td>-0.215886</td>\n",
              "      <td>-0.122817</td>\n",
              "      <td>-0.022730</td>\n",
              "      <td>-0.233996</td>\n",
              "      <td>0.008625</td>\n",
              "      <td>0.022967</td>\n",
              "      <td>-0.186818</td>\n",
              "      <td>-0.160426</td>\n",
              "      <td>0.043125</td>\n",
              "      <td>-0.321342</td>\n",
              "      <td>1.000000</td>\n",
              "    </tr>\n",
              "  </tbody>\n",
              "</table>\n",
              "</div>\n",
              "    <div class=\"colab-df-buttons\">\n",
              "\n",
              "  <div class=\"colab-df-container\">\n",
              "    <button class=\"colab-df-convert\" onclick=\"convertToInteractive('df-6cbd325d-ef4d-4a14-99de-70ab4e215e80')\"\n",
              "            title=\"Convert this dataframe to an interactive table.\"\n",
              "            style=\"display:none;\">\n",
              "\n",
              "  <svg xmlns=\"http://www.w3.org/2000/svg\" height=\"24px\" viewBox=\"0 -960 960 960\">\n",
              "    <path d=\"M120-120v-720h720v720H120Zm60-500h600v-160H180v160Zm220 220h160v-160H400v160Zm0 220h160v-160H400v160ZM180-400h160v-160H180v160Zm440 0h160v-160H620v160ZM180-180h160v-160H180v160Zm440 0h160v-160H620v160Z\"/>\n",
              "  </svg>\n",
              "    </button>\n",
              "\n",
              "  <style>\n",
              "    .colab-df-container {\n",
              "      display:flex;\n",
              "      gap: 12px;\n",
              "    }\n",
              "\n",
              "    .colab-df-convert {\n",
              "      background-color: #E8F0FE;\n",
              "      border: none;\n",
              "      border-radius: 50%;\n",
              "      cursor: pointer;\n",
              "      display: none;\n",
              "      fill: #1967D2;\n",
              "      height: 32px;\n",
              "      padding: 0 0 0 0;\n",
              "      width: 32px;\n",
              "    }\n",
              "\n",
              "    .colab-df-convert:hover {\n",
              "      background-color: #E2EBFA;\n",
              "      box-shadow: 0px 1px 2px rgba(60, 64, 67, 0.3), 0px 1px 3px 1px rgba(60, 64, 67, 0.15);\n",
              "      fill: #174EA6;\n",
              "    }\n",
              "\n",
              "    .colab-df-buttons div {\n",
              "      margin-bottom: 4px;\n",
              "    }\n",
              "\n",
              "    [theme=dark] .colab-df-convert {\n",
              "      background-color: #3B4455;\n",
              "      fill: #D2E3FC;\n",
              "    }\n",
              "\n",
              "    [theme=dark] .colab-df-convert:hover {\n",
              "      background-color: #434B5C;\n",
              "      box-shadow: 0px 1px 3px 1px rgba(0, 0, 0, 0.15);\n",
              "      filter: drop-shadow(0px 1px 2px rgba(0, 0, 0, 0.3));\n",
              "      fill: #FFFFFF;\n",
              "    }\n",
              "  </style>\n",
              "\n",
              "    <script>\n",
              "      const buttonEl =\n",
              "        document.querySelector('#df-6cbd325d-ef4d-4a14-99de-70ab4e215e80 button.colab-df-convert');\n",
              "      buttonEl.style.display =\n",
              "        google.colab.kernel.accessAllowed ? 'block' : 'none';\n",
              "\n",
              "      async function convertToInteractive(key) {\n",
              "        const element = document.querySelector('#df-6cbd325d-ef4d-4a14-99de-70ab4e215e80');\n",
              "        const dataTable =\n",
              "          await google.colab.kernel.invokeFunction('convertToInteractive',\n",
              "                                                    [key], {});\n",
              "        if (!dataTable) return;\n",
              "\n",
              "        const docLinkHtml = 'Like what you see? Visit the ' +\n",
              "          '<a target=\"_blank\" href=https://colab.research.google.com/notebooks/data_table.ipynb>data table notebook</a>'\n",
              "          + ' to learn more about interactive tables.';\n",
              "        element.innerHTML = '';\n",
              "        dataTable['output_type'] = 'display_data';\n",
              "        await google.colab.output.renderOutput(dataTable, element);\n",
              "        const docLink = document.createElement('div');\n",
              "        docLink.innerHTML = docLinkHtml;\n",
              "        element.appendChild(docLink);\n",
              "      }\n",
              "    </script>\n",
              "  </div>\n",
              "\n",
              "\n",
              "<div id=\"df-d4140b62-a791-4f43-8f54-b71f50a1282b\">\n",
              "  <button class=\"colab-df-quickchart\" onclick=\"quickchart('df-d4140b62-a791-4f43-8f54-b71f50a1282b')\"\n",
              "            title=\"Suggest charts.\"\n",
              "            style=\"display:none;\">\n",
              "\n",
              "<svg xmlns=\"http://www.w3.org/2000/svg\" height=\"24px\"viewBox=\"0 0 24 24\"\n",
              "     width=\"24px\">\n",
              "    <g>\n",
              "        <path d=\"M19 3H5c-1.1 0-2 .9-2 2v14c0 1.1.9 2 2 2h14c1.1 0 2-.9 2-2V5c0-1.1-.9-2-2-2zM9 17H7v-7h2v7zm4 0h-2V7h2v10zm4 0h-2v-4h2v4z\"/>\n",
              "    </g>\n",
              "</svg>\n",
              "  </button>\n",
              "\n",
              "<style>\n",
              "  .colab-df-quickchart {\n",
              "      --bg-color: #E8F0FE;\n",
              "      --fill-color: #1967D2;\n",
              "      --hover-bg-color: #E2EBFA;\n",
              "      --hover-fill-color: #174EA6;\n",
              "      --disabled-fill-color: #AAA;\n",
              "      --disabled-bg-color: #DDD;\n",
              "  }\n",
              "\n",
              "  [theme=dark] .colab-df-quickchart {\n",
              "      --bg-color: #3B4455;\n",
              "      --fill-color: #D2E3FC;\n",
              "      --hover-bg-color: #434B5C;\n",
              "      --hover-fill-color: #FFFFFF;\n",
              "      --disabled-bg-color: #3B4455;\n",
              "      --disabled-fill-color: #666;\n",
              "  }\n",
              "\n",
              "  .colab-df-quickchart {\n",
              "    background-color: var(--bg-color);\n",
              "    border: none;\n",
              "    border-radius: 50%;\n",
              "    cursor: pointer;\n",
              "    display: none;\n",
              "    fill: var(--fill-color);\n",
              "    height: 32px;\n",
              "    padding: 0;\n",
              "    width: 32px;\n",
              "  }\n",
              "\n",
              "  .colab-df-quickchart:hover {\n",
              "    background-color: var(--hover-bg-color);\n",
              "    box-shadow: 0 1px 2px rgba(60, 64, 67, 0.3), 0 1px 3px 1px rgba(60, 64, 67, 0.15);\n",
              "    fill: var(--button-hover-fill-color);\n",
              "  }\n",
              "\n",
              "  .colab-df-quickchart-complete:disabled,\n",
              "  .colab-df-quickchart-complete:disabled:hover {\n",
              "    background-color: var(--disabled-bg-color);\n",
              "    fill: var(--disabled-fill-color);\n",
              "    box-shadow: none;\n",
              "  }\n",
              "\n",
              "  .colab-df-spinner {\n",
              "    border: 2px solid var(--fill-color);\n",
              "    border-color: transparent;\n",
              "    border-bottom-color: var(--fill-color);\n",
              "    animation:\n",
              "      spin 1s steps(1) infinite;\n",
              "  }\n",
              "\n",
              "  @keyframes spin {\n",
              "    0% {\n",
              "      border-color: transparent;\n",
              "      border-bottom-color: var(--fill-color);\n",
              "      border-left-color: var(--fill-color);\n",
              "    }\n",
              "    20% {\n",
              "      border-color: transparent;\n",
              "      border-left-color: var(--fill-color);\n",
              "      border-top-color: var(--fill-color);\n",
              "    }\n",
              "    30% {\n",
              "      border-color: transparent;\n",
              "      border-left-color: var(--fill-color);\n",
              "      border-top-color: var(--fill-color);\n",
              "      border-right-color: var(--fill-color);\n",
              "    }\n",
              "    40% {\n",
              "      border-color: transparent;\n",
              "      border-right-color: var(--fill-color);\n",
              "      border-top-color: var(--fill-color);\n",
              "    }\n",
              "    60% {\n",
              "      border-color: transparent;\n",
              "      border-right-color: var(--fill-color);\n",
              "    }\n",
              "    80% {\n",
              "      border-color: transparent;\n",
              "      border-right-color: var(--fill-color);\n",
              "      border-bottom-color: var(--fill-color);\n",
              "    }\n",
              "    90% {\n",
              "      border-color: transparent;\n",
              "      border-bottom-color: var(--fill-color);\n",
              "    }\n",
              "  }\n",
              "</style>\n",
              "\n",
              "  <script>\n",
              "    async function quickchart(key) {\n",
              "      const quickchartButtonEl =\n",
              "        document.querySelector('#' + key + ' button');\n",
              "      quickchartButtonEl.disabled = true;  // To prevent multiple clicks.\n",
              "      quickchartButtonEl.classList.add('colab-df-spinner');\n",
              "      try {\n",
              "        const charts = await google.colab.kernel.invokeFunction(\n",
              "            'suggestCharts', [key], {});\n",
              "      } catch (error) {\n",
              "        console.error('Error during call to suggestCharts:', error);\n",
              "      }\n",
              "      quickchartButtonEl.classList.remove('colab-df-spinner');\n",
              "      quickchartButtonEl.classList.add('colab-df-quickchart-complete');\n",
              "    }\n",
              "    (() => {\n",
              "      let quickchartButtonEl =\n",
              "        document.querySelector('#df-d4140b62-a791-4f43-8f54-b71f50a1282b button');\n",
              "      quickchartButtonEl.style.display =\n",
              "        google.colab.kernel.accessAllowed ? 'block' : 'none';\n",
              "    })();\n",
              "  </script>\n",
              "</div>\n",
              "    </div>\n",
              "  </div>\n"
            ]
          },
          "metadata": {},
          "execution_count": 80
        }
      ]
    },
    {
      "cell_type": "markdown",
      "source": [
        "Important Features"
      ],
      "metadata": {
        "id": "LcBFohJaXbsr"
      }
    },
    {
      "cell_type": "markdown",
      "source": [
        "this data shows that 'sqft_living' and 'yr_built' contributes more. i.e they help in prediction of elements. 'waterfront' helps less to predict the relationship."
      ],
      "metadata": {
        "id": "dms3JLFA7HOB"
      }
    },
    {
      "cell_type": "code",
      "source": [
        "cnf=df.corr()\n",
        "sns.heatmap(cnf)"
      ],
      "metadata": {
        "colab": {
          "base_uri": "https://localhost:8080/",
          "height": 597
        },
        "id": "giICEYuIHsRj",
        "outputId": "268ccd31-8686-4d00-cd41-277c2ceaadb7"
      },
      "execution_count": null,
      "outputs": [
        {
          "output_type": "stream",
          "name": "stderr",
          "text": [
            "<ipython-input-14-712c4e9c65cb>:1: FutureWarning: The default value of numeric_only in DataFrame.corr is deprecated. In a future version, it will default to False. Select only valid columns or specify the value of numeric_only to silence this warning.\n",
            "  cnf=df.corr()\n"
          ]
        },
        {
          "output_type": "execute_result",
          "data": {
            "text/plain": [
              "<Axes: >"
            ]
          },
          "metadata": {},
          "execution_count": 14
        },
        {
          "output_type": "display_data",
          "data": {
            "text/plain": [
              "<Figure size 640x480 with 2 Axes>"
            ],
            "image/png": "[encoded data removed]"
          },
          "metadata": {}
        }
      ]
    },
    {
      "cell_type": "markdown",
      "source": [
        "the warmer the color towards red more correlated they are. More redder more positive correlation. More black or purple more negatively correlated they are."
      ],
      "metadata": {
        "id": "6gUh3PhwIqxM"
      }
    },
    {
      "cell_type": "markdown",
      "source": [
        "Example- To analyze 'yr_built' column in the dataset."
      ],
      "metadata": {
        "id": "sMcg-WWdJdf0"
      }
    },
    {
      "cell_type": "markdown",
      "source": [
        "from graph we can see that it is highly correlated to bathroom, sqft_above and floors."
      ],
      "metadata": {
        "id": "ex4pEoqTJvUB"
      }
    },
    {
      "cell_type": "code",
      "source": [
        "plt.bar(df['yr_built'],df['bathrooms'])\n",
        "plt.plot()\n",
        "plt.show()"
      ],
      "metadata": {
        "colab": {
          "base_uri": "https://localhost:8080/",
          "height": 430
        },
        "id": "H3N3vkfXJupD",
        "outputId": "aa903bcd-c908-470e-9060-b2ccb2db69eb"
      },
      "execution_count": null,
      "outputs": [
        {
          "output_type": "display_data",
          "data": {
            "text/plain": [
              "<Figure size 640x480 with 1 Axes>"
            ],
            "image/png": "[encoded data removed]"
          },
          "metadata": {}
        }
      ]
    },
    {
      "cell_type": "markdown",
      "source": [
        "Binning"
      ],
      "metadata": {
        "id": "fDf-v-3uzEPM"
      }
    },
    {
      "cell_type": "code",
      "source": [
        "pg=df['sqft_above'].max()\n",
        "pg"
      ],
      "metadata": {
        "colab": {
          "base_uri": "https://localhost:8080/"
        },
        "id": "zyLBYFFMzaHZ",
        "outputId": "4be3cf58-4a8c-46d5-989a-9264afe8a7cf"
      },
      "execution_count": null,
      "outputs": [
        {
          "output_type": "execute_result",
          "data": {
            "text/plain": [
              "9410"
            ]
          },
          "metadata": {},
          "execution_count": 7
        }
      ]
    },
    {
      "cell_type": "code",
      "source": [
        "pg=df['sqft_above'].min()\n",
        "pg"
      ],
      "metadata": {
        "colab": {
          "base_uri": "https://localhost:8080/"
        },
        "id": "8kJX37S_0C-Q",
        "outputId": "62e4021e-934e-43db-fa04-0e6f153147c5"
      },
      "execution_count": null,
      "outputs": [
        {
          "output_type": "execute_result",
          "data": {
            "text/plain": [
              "370"
            ]
          },
          "metadata": {},
          "execution_count": 8
        }
      ]
    },
    {
      "cell_type": "code",
      "source": [
        "print(df['sqft_above'].unique())"
      ],
      "metadata": {
        "colab": {
          "base_uri": "https://localhost:8080/"
        },
        "id": "MCIO8b6Z8aXW",
        "outputId": "26437efd-5cda-4e13-ddca-bcc83c507d08"
      },
      "execution_count": null,
      "outputs": [
        {
          "output_type": "stream",
          "name": "stdout",
          "text": [
            "[1340 3370 1930 1000 1140  880 1350 2710 1570 1520 1710 1910 1970 1090\n",
            " 2910 1200 3110 1370 1180 1550 1450 1470 2730 1130 1360 1300 2820 1700\n",
            " 1560 2190 1640 2300 3240  800 1650 1440 1580 1480  850 1770 1210 1160\n",
            " 1270 3310 1880 1800 1460 1070 3660 1040 1280 2680 2540 2920  900 1010\n",
            " 2010 1990 1900 1330 1110 1610 1620 2490 3690 1320 2110 3180 1400 2780\n",
            " 1810  780 1680 1750 1410 2850 2370 1540 4340  840 1240 1050 2310 1120\n",
            " 2230  810 1690 1670 9410 1430 2220 1960 1080 1790 2440 1940 3400 3410\n",
            " 1571 1408 3040 3200 1590 2450 1100  860 2150 2000 1030  720 2020  980\n",
            " 1260 3470 2290 1850 2460 1020 2331 2400  960 3740 1420 1170 2280 1630\n",
            " 3030 1310 3880 1230 2740 3380  930 1060 4510  740 2690 3569 3930  990\n",
            " 2430 4460 1250 1600 1220 1780 1720 1760 1830 1870 4760 2720 1920  820\n",
            " 1860 2245 3170 1890 2030 2130  760 3560  910 3700 2180 1380 1500 1660\n",
            " 1490 3900 1150 2656 1606 2090 2550 2660 1290 2320 2250 1390  650 3290\n",
            " 1980 3510 1510  790 1190 1840 2015 4230 2560 2790 3750 2600 2260 2470\n",
            " 3000 2100 4910 2163 2340 2840 1352 3780 2330 3060 3390 3540 6420  798\n",
            " 2160 3890 2830 3300  870 3420  770 2360 2890 2200 2350 2670  970  700\n",
            " 2620 2040 3490  830  670 3360 3150 3190 3001 3120 3440 1740 4400 4570\n",
            " 1950 3530 3820 1530 2140 2650 2210  950 4490 2120 1159 2240 2700 3100\n",
            " 1820 4470 3810 1363 3430 2580 3320 2510 2070 2900 2060 3550 3800 1232\n",
            " 3950 2170 1726  940 3280 3160 3940 2134 3570  890 2480 2500 3480 2880\n",
            "  680 2640 2380 3230 4380 2800 1730 1092 2770 2390 3050 2860 2303 3488\n",
            "  550 4850  920 2630 3010 1396 2760 3745 3250 2930 3140 4100  590 2080\n",
            " 2980 4260 2052 1347 3860 5060 2420  430 3840 4220 4080 4740 3500  944\n",
            "  580  750 4580 5584 3670 1255 4060 1982 2520 3720 2810 3790 3330 4590\n",
            " 2610 1658 1296 4950 2495 2990 3090 2530 2798 3336 3130 4270 4140  710\n",
            " 5330 4430 3680 4180 3350  630 4290 2675  730 3610 1405 4130 2050 2961\n",
            " 2870 1765 2481  560 2437 3590 2782 4070 1463 4670 2658 4150 3070 1811\n",
            " 3260 2590 3760 1392 3020 1651 4010 2009 1105 7680 4500  620 6120 2414\n",
            " 4210  806 2456 4030 3064 3960 1341 4280 1769  420 3270 4410 2570 4120\n",
            " 3650 3770  610 1144 2960 1212 3450 2970 1088 4820 4170  995 1494 2940\n",
            " 1413 4420 6050 3640 2410 1689 2795 6430  660 3850 2807 1584 3870 2496\n",
            " 3600 4050 3990 2238  380  690 2966 2750 4930 4000 3730 3220 2242 2270\n",
            " 2341 3580 4560 2950 4810 4620 3920 4250 4225 4660 1481 2025 4040 3460\n",
            " 1444 1715 6640 2432 1068 3710 4390 4350 3340 4320 5190  370 2375 2701\n",
            " 3002 2105 5070 3316 4110 4370 3595 1995 2286 5430 1536 3830 2726 1595\n",
            " 5180 7320 1564 3080  490 2783 4440 6070 3206  520 3210 5010 4770 2192\n",
            " 2068 2683 3910 3831 1954 8020 2538]\n"
          ]
        }
      ]
    },
    {
      "cell_type": "code",
      "source": [
        "bin_edges = [0, 1000, 2000, 3000, 4000, 5000, 6000, 7000, 8000, 9000, 9500]\n",
        "bin_labels = [0, 1, 2, 3, 4, 5, 6, 7, 8, 9]\n",
        "df['sqft_above_bins'] = pd.cut(df['sqft_above'], bins=bin_edges, labels=False)\n",
        "print(df)"
      ],
      "metadata": {
        "colab": {
          "base_uri": "https://localhost:8080/"
        },
        "id": "zH2UXwIG7oGt",
        "outputId": "b6c3c9d5-04a4-432a-ad1f-0fb4a9ddb081"
      },
      "execution_count": null,
      "outputs": [
        {
          "output_type": "stream",
          "name": "stdout",
          "text": [
            "             price  bedrooms  bathrooms  sqft_living  sqft_lot  floors  \\\n",
            "0     3.130000e+05         3       1.50         1340      7912     1.5   \n",
            "1     2.384000e+06         5       2.50         3650      9050     2.0   \n",
            "2     3.420000e+05         3       2.00         1930     11947     1.0   \n",
            "3     4.200000e+05         3       2.25         2000      8030     1.0   \n",
            "4     5.500000e+05         4       2.50         1940     10500     1.0   \n",
            "...            ...       ...        ...          ...       ...     ...   \n",
            "4595  3.081667e+05         3       1.75         1510      6360     1.0   \n",
            "4596  5.343333e+05         3       2.50         1460      7573     2.0   \n",
            "4597  4.169042e+05         3       2.50         3010      7014     2.0   \n",
            "4598  2.034000e+05         4       2.00         2090      6630     1.0   \n",
            "4599  2.206000e+05         3       2.50         1490      8102     2.0   \n",
            "\n",
            "      waterfront  view  condition  sqft_above  sqft_basement  yr_built  \\\n",
            "0              0     0          3        1340              0      1955   \n",
            "1              0     4          5        3370            280      1921   \n",
            "2              0     0          4        1930              0      1966   \n",
            "3              0     0          4        1000           1000      1963   \n",
            "4              0     0          4        1140            800      1976   \n",
            "...          ...   ...        ...         ...            ...       ...   \n",
            "4595           0     0          4        1510              0      1954   \n",
            "4596           0     0          3        1460              0      1983   \n",
            "4597           0     0          3        3010              0      2009   \n",
            "4598           0     0          3        1070           1020      1974   \n",
            "4599           0     0          4        1490              0      1990   \n",
            "\n",
            "      yr_renovated  sqft_above_bins  \n",
            "0             2005                1  \n",
            "1                0                3  \n",
            "2                0                1  \n",
            "3                0                0  \n",
            "4             1992                1  \n",
            "...            ...              ...  \n",
            "4595          1979                1  \n",
            "4596          2009                1  \n",
            "4597             0                3  \n",
            "4598             0                1  \n",
            "4599             0                1  \n",
            "\n",
            "[4600 rows x 14 columns]\n"
          ]
        }
      ]
    },
    {
      "cell_type": "code",
      "source": [
        "pg=df['yr_built'].max()\n",
        "pg"
      ],
      "metadata": {
        "id": "kE1EfUzm1gZm",
        "colab": {
          "base_uri": "https://localhost:8080/"
        },
        "outputId": "d95a5352-7784-4cdc-9e51-ed4e9d060591"
      },
      "execution_count": null,
      "outputs": [
        {
          "output_type": "execute_result",
          "data": {
            "text/plain": [
              "2014"
            ]
          },
          "metadata": {},
          "execution_count": 10
        }
      ]
    },
    {
      "cell_type": "code",
      "source": [
        "pg=df['yr_built'].min()\n",
        "pg"
      ],
      "metadata": {
        "colab": {
          "base_uri": "https://localhost:8080/"
        },
        "outputId": "5b0b5f0e-c25f-4996-87c6-9526a189936e",
        "id": "aYdtAOJqHBGg"
      },
      "execution_count": null,
      "outputs": [
        {
          "output_type": "execute_result",
          "data": {
            "text/plain": [
              "1900"
            ]
          },
          "metadata": {},
          "execution_count": 11
        }
      ]
    },
    {
      "cell_type": "code",
      "source": [
        "bin_edges = [1890,1910,1930,1950,1970,1990,2010,2020]\n",
        "df['yr_built_bins'] = pd.cut(df['yr_built'], bins=bin_edges, labels=False)\n",
        "print(df)"
      ],
      "metadata": {
        "colab": {
          "base_uri": "https://localhost:8080/"
        },
        "id": "DV03JRyzHCYv",
        "outputId": "91e5bef1-e7f8-495d-9459-85e8041496bc"
      },
      "execution_count": null,
      "outputs": [
        {
          "output_type": "stream",
          "name": "stdout",
          "text": [
            "             price  bedrooms  bathrooms  sqft_living  sqft_lot  floors  \\\n",
            "0     3.130000e+05         3       1.50         1340      7912     1.5   \n",
            "1     2.384000e+06         5       2.50         3650      9050     2.0   \n",
            "2     3.420000e+05         3       2.00         1930     11947     1.0   \n",
            "3     4.200000e+05         3       2.25         2000      8030     1.0   \n",
            "4     5.500000e+05         4       2.50         1940     10500     1.0   \n",
            "...            ...       ...        ...          ...       ...     ...   \n",
            "4595  3.081667e+05         3       1.75         1510      6360     1.0   \n",
            "4596  5.343333e+05         3       2.50         1460      7573     2.0   \n",
            "4597  4.169042e+05         3       2.50         3010      7014     2.0   \n",
            "4598  2.034000e+05         4       2.00         2090      6630     1.0   \n",
            "4599  2.206000e+05         3       2.50         1490      8102     2.0   \n",
            "\n",
            "      waterfront  view  condition  sqft_above  sqft_basement  yr_built  \\\n",
            "0              0     0          3        1340              0      1955   \n",
            "1              0     4          5        3370            280      1921   \n",
            "2              0     0          4        1930              0      1966   \n",
            "3              0     0          4        1000           1000      1963   \n",
            "4              0     0          4        1140            800      1976   \n",
            "...          ...   ...        ...         ...            ...       ...   \n",
            "4595           0     0          4        1510              0      1954   \n",
            "4596           0     0          3        1460              0      1983   \n",
            "4597           0     0          3        3010              0      2009   \n",
            "4598           0     0          3        1070           1020      1974   \n",
            "4599           0     0          4        1490              0      1990   \n",
            "\n",
            "      yr_renovated  sqft_above_bins  yr_built_bins  \n",
            "0             2005                1              3  \n",
            "1                0                3              1  \n",
            "2                0                1              3  \n",
            "3                0                0              3  \n",
            "4             1992                1              4  \n",
            "...            ...              ...            ...  \n",
            "4595          1979                1              3  \n",
            "4596          2009                1              4  \n",
            "4597             0                3              5  \n",
            "4598             0                1              4  \n",
            "4599             0                1              4  \n",
            "\n",
            "[4600 rows x 15 columns]\n"
          ]
        }
      ]
    },
    {
      "cell_type": "code",
      "source": [
        "bin_edges = [0, 1000, 2000, 3000, 4000, 5000, 6000, 7000, 8000, 9000, 9500]\n",
        "bin_labels = [0, 1, 2, 3, 4, 5, 6, 7, 8, 9]\n",
        "\n",
        "df['sqft_above_bins'] = pd.cut(df['sqft_above'], bins=bin_edges, include_lowest=True, labels=bin_labels)\n",
        "print(df)"
      ],
      "metadata": {
        "id": "LgjWg9mR7t0e"
      },
      "execution_count": null,
      "outputs": []
    },
    {
      "cell_type": "code",
      "source": [
        "b_groups = df.groupby('yr_built_bins')\n",
        "highest_prices = b_groups['price'].max()\n",
        "lowest_prices = b_groups['price'].min()\n",
        "high_sqft = b_groups['sqft_living'].max()\n",
        "low_sqft = b_groups['sqft_living'].min()\n",
        "print('Yr built')\n",
        "result_df = pd.DataFrame({\n",
        "    'Highest Price': highest_prices,\n",
        "    'Lowest Price': lowest_prices,\n",
        "    'Highest sqft' : high_sqft,\n",
        "    'Lowest sqft' : low_sqft\n",
        "})\n",
        "print(result_df)"
      ],
      "metadata": {
        "colab": {
          "base_uri": "https://localhost:8080/"
        },
        "id": "yOdvv_cFKtZ3",
        "outputId": "6cdd51e9-0506-4de8-e8dd-c6b0cd98e999"
      },
      "execution_count": null,
      "outputs": [
        {
          "output_type": "stream",
          "name": "stdout",
          "text": [
            "Yr built\n",
            "                    Highest Price  Lowest Price  Highest sqft  Lowest sqft\n",
            "yr_built_bins                                                             \n",
            "(1889.999, 1910.0]      3200000.0      150000.0          6210          700\n",
            "(1910.0, 1930.0]        2555000.0           0.0          5340          370\n",
            "(1930.0, 1950.0]        7062500.0           0.0         10040          580\n",
            "(1950.0, 1970.0]       12899000.0           0.0          8670          380\n",
            "(1970.0, 1990.0]        4668000.0           0.0          9640          590\n",
            "(1990.0, 2010.0]       26590000.0           0.0         13540          550\n",
            "(2010.0, 2020.0]        2351956.0           0.0          5010         1100\n"
          ]
        }
      ]
    },
    {
      "cell_type": "code",
      "source": [
        "b_groups = df.groupby('sqft_above_bins')\n",
        "highest_prices = b_groups['price'].max()\n",
        "lowest_prices = b_groups['price'].min()\n",
        "high_sqft = b_groups['sqft_living'].max()\n",
        "low_sqft = b_groups['sqft_living'].min()\n",
        "print('Square Feet above')\n",
        "result_df = pd.DataFrame({\n",
        "    'Highest Price': highest_prices,\n",
        "    'Lowest Price': lowest_prices,\n",
        "    'Highest sqft' : high_sqft,\n",
        "    'Lowest sqft' : low_sqft\n",
        "})\n",
        "print(result_df)"
      ],
      "metadata": {
        "colab": {
          "base_uri": "https://localhost:8080/"
        },
        "outputId": "72d8be1d-2c35-4cac-9980-fb8bd9842db4",
        "id": "L_Z1-S3SQq8s"
      },
      "execution_count": null,
      "outputs": [
        {
          "output_type": "stream",
          "name": "stdout",
          "text": [
            "Square Feet above\n",
            "                  Highest Price  Lowest Price  Highest sqft  Lowest sqft\n",
            "sqft_above_bins                                                         \n",
            "(-0.001, 1000.0]       850000.0           0.0          2000          370\n",
            "(1000.0, 2000.0]     26590000.0           0.0          3990         1010\n",
            "(2000.0, 3000.0]      2400000.0           0.0          5700         2009\n",
            "(3000.0, 4000.0]      3710000.0           0.0          6490         3001\n",
            "(4000.0, 5000.0]      4668000.0           0.0          9640         4030\n",
            "(5000.0, 6000.0]      3100000.0      692000.0          6980         5010\n",
            "(6000.0, 7000.0]      4489000.0     1550000.0          8670         6050\n",
            "(7000.0, 8000.0]      7062500.0     1135250.0         10040         7320\n",
            "(8000.0, 9000.0]            0.0           0.0          8020         8020\n",
            "(9000.0, 9500.0]      2280000.0     2280000.0         13540        13540\n"
          ]
        }
      ]
    },
    {
      "cell_type": "code",
      "source": [
        "#To display the highest price for each time period\n",
        "grouped = df.groupby('yr_built_bins')['price'].max().reset_index()\n",
        "plt.figure(figsize=(10, 6))\n",
        "plt.bar(grouped['yr_built_bins'].astype(str), grouped['price'])\n",
        "plt.xlabel('Year Built')\n",
        "plt.ylabel('Highest Price')\n",
        "plt.title('Highest Price by Year Built Bins')\n",
        "plt.xticks(rotation=45)\n",
        "plt.show()"
      ],
      "metadata": {
        "colab": {
          "base_uri": "https://localhost:8080/",
          "height": 655
        },
        "id": "-Tv-CLLU1BPB",
        "outputId": "1f419d41-6c1c-4599-e92a-b9d1441bd8f7"
      },
      "execution_count": null,
      "outputs": [
        {
          "output_type": "display_data",
          "data": {
            "text/plain": [
              "<Figure size 1000x600 with 1 Axes>"
            ],
            "image/png": "[encoded data removed]"
          },
          "metadata": {}
        }
      ]
    },
    {
      "cell_type": "code",
      "source": [
        "#To display the highest price for each sqft above\n",
        "grouped = df.groupby('sqft_above_bins')['price'].max().reset_index()\n",
        "plt.figure(figsize=(10, 6))\n",
        "plt.bar(grouped['sqft_above_bins'].astype(str), grouped['price'])\n",
        "plt.xlabel('Square above feet')\n",
        "plt.ylabel('Highest Price')\n",
        "plt.title('Highest Price by Sqft')\n",
        "plt.xticks(rotation=45)\n",
        "plt.show()"
      ],
      "metadata": {
        "id": "EosNg4GyQ15S",
        "colab": {
          "base_uri": "https://localhost:8080/",
          "height": 642
        },
        "outputId": "dd0f9355-7856-4054-b1e8-f9adb557e6a8"
      },
      "execution_count": null,
      "outputs": [
        {
          "output_type": "display_data",
          "data": {
            "text/plain": [
              "<Figure size 1000x600 with 1 Axes>"
            ],
            "image/png": "[encoded data removed]"
          },
          "metadata": {}
        }
      ]
    },
    {
      "cell_type": "code",
      "source": [
        "df.head()"
      ],
      "metadata": {
        "colab": {
          "base_uri": "https://localhost:8080/",
          "height": 226
        },
        "id": "lMEEMkRb1_Vl",
        "outputId": "dda73a2a-7a9f-4721-ecbd-13c28e3b87e3"
      },
      "execution_count": null,
      "outputs": [
        {
          "output_type": "execute_result",
          "data": {
            "text/plain": [
              "       price  bedrooms  bathrooms  sqft_living  sqft_lot  floors  waterfront  \\\n",
              "0   313000.0         3       1.50         1340      7912     1.5           0   \n",
              "1  2384000.0         5       2.50         3650      9050     2.0           0   \n",
              "2   342000.0         3       2.00         1930     11947     1.0           0   \n",
              "3   420000.0         3       2.25         2000      8030     1.0           0   \n",
              "4   550000.0         4       2.50         1940     10500     1.0           0   \n",
              "\n",
              "   view  condition  sqft_above  sqft_basement  yr_built  yr_renovated  \\\n",
              "0     0          3        1340              0      1955          2005   \n",
              "1     4          5        3370            280      1921             0   \n",
              "2     0          4        1930              0      1966             0   \n",
              "3     0          4        1000           1000      1963             0   \n",
              "4     0          4        1140            800      1976          1992   \n",
              "\n",
              "        city  \n",
              "0  Shoreline  \n",
              "1    Seattle  \n",
              "2       Kent  \n",
              "3   Bellevue  \n",
              "4    Redmond  "
            ],
            "text/html": [
              "\n",
              "  <div id=\"df-a9d6f9e7-8bcc-471e-9913-5316d02a7134\" class=\"colab-df-container\">\n",
              "    <div>\n",
              "<style scoped>\n",
              "    .dataframe tbody tr th:only-of-type {\n",
              "        vertical-align: middle;\n",
              "    }\n",
              "\n",
              "    .dataframe tbody tr th {\n",
              "        vertical-align: top;\n",
              "    }\n",
              "\n",
              "    .dataframe thead th {\n",
              "        text-align: right;\n",
              "    }\n",
              "</style>\n",
              "<table border=\"1\" class=\"dataframe\">\n",
              "  <thead>\n",
              "    <tr style=\"text-align: right;\">\n",
              "      <th></th>\n",
              "      <th>price</th>\n",
              "      <th>bedrooms</th>\n",
              "      <th>bathrooms</th>\n",
              "      <th>sqft_living</th>\n",
              "      <th>sqft_lot</th>\n",
              "      <th>floors</th>\n",
              "      <th>waterfront</th>\n",
              "      <th>view</th>\n",
              "      <th>condition</th>\n",
              "      <th>sqft_above</th>\n",
              "      <th>sqft_basement</th>\n",
              "      <th>yr_built</th>\n",
              "      <th>yr_renovated</th>\n",
              "      <th>city</th>\n",
              "    </tr>\n",
              "  </thead>\n",
              "  <tbody>\n",
              "    <tr>\n",
              "      <th>0</th>\n",
              "      <td>313000.0</td>\n",
              "      <td>3</td>\n",
              "      <td>1.50</td>\n",
              "      <td>1340</td>\n",
              "      <td>7912</td>\n",
              "      <td>1.5</td>\n",
              "      <td>0</td>\n",
              "      <td>0</td>\n",
              "      <td>3</td>\n",
              "      <td>1340</td>\n",
              "      <td>0</td>\n",
              "      <td>1955</td>\n",
              "      <td>2005</td>\n",
              "      <td>Shoreline</td>\n",
              "    </tr>\n",
              "    <tr>\n",
              "      <th>1</th>\n",
              "      <td>2384000.0</td>\n",
              "      <td>5</td>\n",
              "      <td>2.50</td>\n",
              "      <td>3650</td>\n",
              "      <td>9050</td>\n",
              "      <td>2.0</td>\n",
              "      <td>0</td>\n",
              "      <td>4</td>\n",
              "      <td>5</td>\n",
              "      <td>3370</td>\n",
              "      <td>280</td>\n",
              "      <td>1921</td>\n",
              "      <td>0</td>\n",
              "      <td>Seattle</td>\n",
              "    </tr>\n",
              "    <tr>\n",
              "      <th>2</th>\n",
              "      <td>342000.0</td>\n",
              "      <td>3</td>\n",
              "      <td>2.00</td>\n",
              "      <td>1930</td>\n",
              "      <td>11947</td>\n",
              "      <td>1.0</td>\n",
              "      <td>0</td>\n",
              "      <td>0</td>\n",
              "      <td>4</td>\n",
              "      <td>1930</td>\n",
              "      <td>0</td>\n",
              "      <td>1966</td>\n",
              "      <td>0</td>\n",
              "      <td>Kent</td>\n",
              "    </tr>\n",
              "    <tr>\n",
              "      <th>3</th>\n",
              "      <td>420000.0</td>\n",
              "      <td>3</td>\n",
              "      <td>2.25</td>\n",
              "      <td>2000</td>\n",
              "      <td>8030</td>\n",
              "      <td>1.0</td>\n",
              "      <td>0</td>\n",
              "      <td>0</td>\n",
              "      <td>4</td>\n",
              "      <td>1000</td>\n",
              "      <td>1000</td>\n",
              "      <td>1963</td>\n",
              "      <td>0</td>\n",
              "      <td>Bellevue</td>\n",
              "    </tr>\n",
              "    <tr>\n",
              "      <th>4</th>\n",
              "      <td>550000.0</td>\n",
              "      <td>4</td>\n",
              "      <td>2.50</td>\n",
              "      <td>1940</td>\n",
              "      <td>10500</td>\n",
              "      <td>1.0</td>\n",
              "      <td>0</td>\n",
              "      <td>0</td>\n",
              "      <td>4</td>\n",
              "      <td>1140</td>\n",
              "      <td>800</td>\n",
              "      <td>1976</td>\n",
              "      <td>1992</td>\n",
              "      <td>Redmond</td>\n",
              "    </tr>\n",
              "  </tbody>\n",
              "</table>\n",
              "</div>\n",
              "    <div class=\"colab-df-buttons\">\n",
              "\n",
              "  <div class=\"colab-df-container\">\n",
              "    <button class=\"colab-df-convert\" onclick=\"convertToInteractive('df-a9d6f9e7-8bcc-471e-9913-5316d02a7134')\"\n",
              "            title=\"Convert this dataframe to an interactive table.\"\n",
              "            style=\"display:none;\">\n",
              "\n",
              "  <svg xmlns=\"http://www.w3.org/2000/svg\" height=\"24px\" viewBox=\"0 -960 960 960\">\n",
              "    <path d=\"M120-120v-720h720v720H120Zm60-500h600v-160H180v160Zm220 220h160v-160H400v160Zm0 220h160v-160H400v160ZM180-400h160v-160H180v160Zm440 0h160v-160H620v160ZM180-180h160v-160H180v160Zm440 0h160v-160H620v160Z\"/>\n",
              "  </svg>\n",
              "    </button>\n",
              "\n",
              "  <style>\n",
              "    .colab-df-container {\n",
              "      display:flex;\n",
              "      gap: 12px;\n",
              "    }\n",
              "\n",
              "    .colab-df-convert {\n",
              "      background-color: #E8F0FE;\n",
              "      border: none;\n",
              "      border-radius: 50%;\n",
              "      cursor: pointer;\n",
              "      display: none;\n",
              "      fill: #1967D2;\n",
              "      height: 32px;\n",
              "      padding: 0 0 0 0;\n",
              "      width: 32px;\n",
              "    }\n",
              "\n",
              "    .colab-df-convert:hover {\n",
              "      background-color: #E2EBFA;\n",
              "      box-shadow: 0px 1px 2px rgba(60, 64, 67, 0.3), 0px 1px 3px 1px rgba(60, 64, 67, 0.15);\n",
              "      fill: #174EA6;\n",
              "    }\n",
              "\n",
              "    .colab-df-buttons div {\n",
              "      margin-bottom: 4px;\n",
              "    }\n",
              "\n",
              "    [theme=dark] .colab-df-convert {\n",
              "      background-color: #3B4455;\n",
              "      fill: #D2E3FC;\n",
              "    }\n",
              "\n",
              "    [theme=dark] .colab-df-convert:hover {\n",
              "      background-color: #434B5C;\n",
              "      box-shadow: 0px 1px 3px 1px rgba(0, 0, 0, 0.15);\n",
              "      filter: drop-shadow(0px 1px 2px rgba(0, 0, 0, 0.3));\n",
              "      fill: #FFFFFF;\n",
              "    }\n",
              "  </style>\n",
              "\n",
              "    <script>\n",
              "      const buttonEl =\n",
              "        document.querySelector('#df-a9d6f9e7-8bcc-471e-9913-5316d02a7134 button.colab-df-convert');\n",
              "      buttonEl.style.display =\n",
              "        google.colab.kernel.accessAllowed ? 'block' : 'none';\n",
              "\n",
              "      async function convertToInteractive(key) {\n",
              "        const element = document.querySelector('#df-a9d6f9e7-8bcc-471e-9913-5316d02a7134');\n",
              "        const dataTable =\n",
              "          await google.colab.kernel.invokeFunction('convertToInteractive',\n",
              "                                                    [key], {});\n",
              "        if (!dataTable) return;\n",
              "\n",
              "        const docLinkHtml = 'Like what you see? Visit the ' +\n",
              "          '<a target=\"_blank\" href=https://colab.research.google.com/notebooks/data_table.ipynb>data table notebook</a>'\n",
              "          + ' to learn more about interactive tables.';\n",
              "        element.innerHTML = '';\n",
              "        dataTable['output_type'] = 'display_data';\n",
              "        await google.colab.output.renderOutput(dataTable, element);\n",
              "        const docLink = document.createElement('div');\n",
              "        docLink.innerHTML = docLinkHtml;\n",
              "        element.appendChild(docLink);\n",
              "      }\n",
              "    </script>\n",
              "  </div>\n",
              "\n",
              "\n",
              "<div id=\"df-45910ea3-0937-49b9-b850-b5005f1eecfb\">\n",
              "  <button class=\"colab-df-quickchart\" onclick=\"quickchart('df-45910ea3-0937-49b9-b850-b5005f1eecfb')\"\n",
              "            title=\"Suggest charts.\"\n",
              "            style=\"display:none;\">\n",
              "\n",
              "<svg xmlns=\"http://www.w3.org/2000/svg\" height=\"24px\"viewBox=\"0 0 24 24\"\n",
              "     width=\"24px\">\n",
              "    <g>\n",
              "        <path d=\"M19 3H5c-1.1 0-2 .9-2 2v14c0 1.1.9 2 2 2h14c1.1 0 2-.9 2-2V5c0-1.1-.9-2-2-2zM9 17H7v-7h2v7zm4 0h-2V7h2v10zm4 0h-2v-4h2v4z\"/>\n",
              "    </g>\n",
              "</svg>\n",
              "  </button>\n",
              "\n",
              "<style>\n",
              "  .colab-df-quickchart {\n",
              "      --bg-color: #E8F0FE;\n",
              "      --fill-color: #1967D2;\n",
              "      --hover-bg-color: #E2EBFA;\n",
              "      --hover-fill-color: #174EA6;\n",
              "      --disabled-fill-color: #AAA;\n",
              "      --disabled-bg-color: #DDD;\n",
              "  }\n",
              "\n",
              "  [theme=dark] .colab-df-quickchart {\n",
              "      --bg-color: #3B4455;\n",
              "      --fill-color: #D2E3FC;\n",
              "      --hover-bg-color: #434B5C;\n",
              "      --hover-fill-color: #FFFFFF;\n",
              "      --disabled-bg-color: #3B4455;\n",
              "      --disabled-fill-color: #666;\n",
              "  }\n",
              "\n",
              "  .colab-df-quickchart {\n",
              "    background-color: var(--bg-color);\n",
              "    border: none;\n",
              "    border-radius: 50%;\n",
              "    cursor: pointer;\n",
              "    display: none;\n",
              "    fill: var(--fill-color);\n",
              "    height: 32px;\n",
              "    padding: 0;\n",
              "    width: 32px;\n",
              "  }\n",
              "\n",
              "  .colab-df-quickchart:hover {\n",
              "    background-color: var(--hover-bg-color);\n",
              "    box-shadow: 0 1px 2px rgba(60, 64, 67, 0.3), 0 1px 3px 1px rgba(60, 64, 67, 0.15);\n",
              "    fill: var(--button-hover-fill-color);\n",
              "  }\n",
              "\n",
              "  .colab-df-quickchart-complete:disabled,\n",
              "  .colab-df-quickchart-complete:disabled:hover {\n",
              "    background-color: var(--disabled-bg-color);\n",
              "    fill: var(--disabled-fill-color);\n",
              "    box-shadow: none;\n",
              "  }\n",
              "\n",
              "  .colab-df-spinner {\n",
              "    border: 2px solid var(--fill-color);\n",
              "    border-color: transparent;\n",
              "    border-bottom-color: var(--fill-color);\n",
              "    animation:\n",
              "      spin 1s steps(1) infinite;\n",
              "  }\n",
              "\n",
              "  @keyframes spin {\n",
              "    0% {\n",
              "      border-color: transparent;\n",
              "      border-bottom-color: var(--fill-color);\n",
              "      border-left-color: var(--fill-color);\n",
              "    }\n",
              "    20% {\n",
              "      border-color: transparent;\n",
              "      border-left-color: var(--fill-color);\n",
              "      border-top-color: var(--fill-color);\n",
              "    }\n",
              "    30% {\n",
              "      border-color: transparent;\n",
              "      border-left-color: var(--fill-color);\n",
              "      border-top-color: var(--fill-color);\n",
              "      border-right-color: var(--fill-color);\n",
              "    }\n",
              "    40% {\n",
              "      border-color: transparent;\n",
              "      border-right-color: var(--fill-color);\n",
              "      border-top-color: var(--fill-color);\n",
              "    }\n",
              "    60% {\n",
              "      border-color: transparent;\n",
              "      border-right-color: var(--fill-color);\n",
              "    }\n",
              "    80% {\n",
              "      border-color: transparent;\n",
              "      border-right-color: var(--fill-color);\n",
              "      border-bottom-color: var(--fill-color);\n",
              "    }\n",
              "    90% {\n",
              "      border-color: transparent;\n",
              "      border-bottom-color: var(--fill-color);\n",
              "    }\n",
              "  }\n",
              "</style>\n",
              "\n",
              "  <script>\n",
              "    async function quickchart(key) {\n",
              "      const quickchartButtonEl =\n",
              "        document.querySelector('#' + key + ' button');\n",
              "      quickchartButtonEl.disabled = true;  // To prevent multiple clicks.\n",
              "      quickchartButtonEl.classList.add('colab-df-spinner');\n",
              "      try {\n",
              "        const charts = await google.colab.kernel.invokeFunction(\n",
              "            'suggestCharts', [key], {});\n",
              "      } catch (error) {\n",
              "        console.error('Error during call to suggestCharts:', error);\n",
              "      }\n",
              "      quickchartButtonEl.classList.remove('colab-df-spinner');\n",
              "      quickchartButtonEl.classList.add('colab-df-quickchart-complete');\n",
              "    }\n",
              "    (() => {\n",
              "      let quickchartButtonEl =\n",
              "        document.querySelector('#df-45910ea3-0937-49b9-b850-b5005f1eecfb button');\n",
              "      quickchartButtonEl.style.display =\n",
              "        google.colab.kernel.accessAllowed ? 'block' : 'none';\n",
              "    })();\n",
              "  </script>\n",
              "</div>\n",
              "    </div>\n",
              "  </div>\n"
            ]
          },
          "metadata": {},
          "execution_count": 47
        }
      ]
    },
    {
      "cell_type": "code",
      "source": [
        "columns = ['price', 'bedrooms', 'bathrooms', 'sqft_living', 'sqft_lot', 'floors', 'view', 'condition', 'sqft_above', 'sqft_basement', 'yr_built', 'yr_renovated']\n",
        "scaler = MinMaxScaler()\n",
        "df[columns] = scaler.fit_transform(df[columns])"
      ],
      "metadata": {
        "id": "Kpbs-Pyx5OLq"
      },
      "execution_count": null,
      "outputs": []
    },
    {
      "cell_type": "markdown",
      "source": [
        "## **KNN**\n"
      ],
      "metadata": {
        "id": "luHRrZ0NwiCp"
      }
    },
    {
      "cell_type": "code",
      "source": [
        "X = df.drop('price', axis=1)\n",
        "y = df['price']\n",
        "X_train, X_test, y_train, y_test = train_test_split(X, y, test_size=0.2, random_state=42)"
      ],
      "metadata": {
        "id": "wdQT-Q6LxN4E"
      },
      "execution_count": null,
      "outputs": []
    },
    {
      "cell_type": "code",
      "source": [
        "k = 5\n",
        "knn_model = KNeighborsRegressor(n_neighbors=k)\n",
        "knn_model.fit(X_train, y_train)\n",
        "y_pred = knn_model.predict(X_test)\n",
        "mse = mean_squared_error(y_test, y_pred)\n",
        "print(f\"Mean Squared Error: {mse}\")"
      ],
      "metadata": {
        "colab": {
          "base_uri": "https://localhost:8080/"
        },
        "id": "oa5GB6r92U0D",
        "outputId": "dacfbad6-b7ef-44b9-ed78-d459fe64005a"
      },
      "execution_count": null,
      "outputs": [
        {
          "output_type": "stream",
          "name": "stdout",
          "text": [
            "Mean Squared Error: 0.0014000744767017918\n"
          ]
        }
      ]
    },
    {
      "cell_type": "code",
      "source": [
        "plt.scatter(y_test, y_pred)\n",
        "plt.xlabel(\"Actual Values\")\n",
        "plt.ylabel(\"Predicted Values\")\n",
        "plt.title(\"Actual vs. Predicted Values\")\n",
        "plt.show()"
      ],
      "metadata": {
        "colab": {
          "base_uri": "https://localhost:8080/",
          "height": 472
        },
        "id": "WZmARzaI5okS",
        "outputId": "472cd519-3e08-4e1c-b937-b2b421753b0f"
      },
      "execution_count": null,
      "outputs": [
        {
          "output_type": "display_data",
          "data": {
            "text/plain": [
              "<Figure size 640x480 with 1 Axes>"
            ],
            "image/png": "[encoded data removed]"
          },
          "metadata": {}
        }
      ]
    }
  ]
}